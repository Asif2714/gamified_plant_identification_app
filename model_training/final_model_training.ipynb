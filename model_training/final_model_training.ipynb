{
 "cells": [
  {
   "cell_type": "code",
   "execution_count": 1,
   "metadata": {},
   "outputs": [
    {
     "name": "stdout",
     "output_type": "stream",
     "text": [
      "Note: you may need to restart the kernel to use updated packages.Requirement already satisfied: torch in c:\\users\\asifa\\appdata\\local\\programs\\python\\python311\\lib\\site-packages (2.1.0+cu121)\n",
      "Requirement already satisfied: torchvision in c:\\users\\asifa\\appdata\\local\\programs\\python\\python311\\lib\\site-packages (0.16.0+cu121)\n",
      "Requirement already satisfied: filelock in c:\\users\\asifa\\appdata\\local\\programs\\python\\python311\\lib\\site-packages (from torch) (3.13.0)\n",
      "Requirement already satisfied: typing-extensions in c:\\users\\asifa\\appdata\\local\\programs\\python\\python311\\lib\\site-packages (from torch) (4.8.0)\n",
      "Requirement already satisfied: sympy in c:\\users\\asifa\\appdata\\local\\programs\\python\\python311\\lib\\site-packages (from torch) (1.12)\n",
      "Requirement already satisfied: networkx in c:\\users\\asifa\\appdata\\local\\programs\\python\\python311\\lib\\site-packages (from torch) (3.2.1)\n",
      "Requirement already satisfied: jinja2 in c:\\users\\asifa\\appdata\\local\\programs\\python\\python311\\lib\\site-packages (from torch) (3.1.2)\n",
      "Requirement already satisfied: fsspec in c:\\users\\asifa\\appdata\\local\\programs\\python\\python311\\lib\\site-packages (from torch) (2023.10.0)\n",
      "Requirement already satisfied: numpy in c:\\users\\asifa\\appdata\\local\\programs\\python\\python311\\lib\\site-packages (from torchvision) (1.26.0)\n",
      "Requirement already satisfied: requests in c:\\users\\asifa\\appdata\\local\\programs\\python\\python311\\lib\\site-packages (from torchvision) (2.31.0)\n",
      "Requirement already satisfied: pillow!=8.3.*,>=5.3.0 in c:\\users\\asifa\\appdata\\local\\programs\\python\\python311\\lib\\site-packages (from torchvision) (10.0.1)\n",
      "Requirement already satisfied: MarkupSafe>=2.0 in c:\\users\\asifa\\appdata\\local\\programs\\python\\python311\\lib\\site-packages (from jinja2->torch) (2.1.3)\n",
      "Requirement already satisfied: charset-normalizer<4,>=2 in c:\\users\\asifa\\appdata\\local\\programs\\python\\python311\\lib\\site-packages (from requests->torchvision) (3.3.0)\n",
      "Requirement already satisfied: idna<4,>=2.5 in c:\\users\\asifa\\appdata\\local\\programs\\python\\python311\\lib\\site-packages (from requests->torchvision) (3.4)\n",
      "Requirement already satisfied: urllib3<3,>=1.21.1 in c:\\users\\asifa\\appdata\\local\\programs\\python\\python311\\lib\\site-packages (from requests->torchvision) (2.0.6)\n",
      "Requirement already satisfied: certifi>=2017.4.17 in c:\\users\\asifa\\appdata\\local\\programs\\python\\python311\\lib\\site-packages (from requests->torchvision) (2023.7.22)\n",
      "Requirement already satisfied: mpmath>=0.19 in c:\\users\\asifa\\appdata\\local\\programs\\python\\python311\\lib\\site-packages (from sympy->torch) (1.3.0)\n",
      "\n"
     ]
    },
    {
     "name": "stderr",
     "output_type": "stream",
     "text": [
      "\n",
      "[notice] A new release of pip is available: 23.2.1 -> 24.0\n",
      "[notice] To update, run: python.exe -m pip install --upgrade pip\n"
     ]
    },
    {
     "name": "stdout",
     "output_type": "stream",
     "text": [
      "Requirement already satisfied: tqdm in c:\\users\\asifa\\appdata\\local\\programs\\python\\python311\\lib\\site-packages (4.66.2)\n",
      "Requirement already satisfied: colorama in c:\\users\\asifa\\appdata\\local\\programs\\python\\python311\\lib\\site-packages (from tqdm) (0.4.6)\n",
      "Note: you may need to restart the kernel to use updated packages.\n"
     ]
    },
    {
     "name": "stderr",
     "output_type": "stream",
     "text": [
      "\n",
      "[notice] A new release of pip is available: 23.2.1 -> 24.0\n",
      "[notice] To update, run: python.exe -m pip install --upgrade pip\n"
     ]
    },
    {
     "name": "stdout",
     "output_type": "stream",
     "text": [
      "Requirement already satisfied: ipywidgets in c:\\users\\asifa\\appdata\\local\\programs\\python\\python311\\lib\\site-packages (8.1.1)Note: you may need to restart the kernel to use updated packages.\n"
     ]
    },
    {
     "name": "stderr",
     "output_type": "stream",
     "text": [
      "\n",
      "[notice] A new release of pip is available: 23.2.1 -> 24.0\n",
      "[notice] To update, run: python.exe -m pip install --upgrade pip\n"
     ]
    },
    {
     "name": "stdout",
     "output_type": "stream",
     "text": [
      "\n",
      "Requirement already satisfied: comm>=0.1.3 in c:\\users\\asifa\\appdata\\local\\programs\\python\\python311\\lib\\site-packages (from ipywidgets) (0.1.4)\n",
      "Requirement already satisfied: ipython>=6.1.0 in c:\\users\\asifa\\appdata\\local\\programs\\python\\python311\\lib\\site-packages (from ipywidgets) (8.16.1)\n",
      "Requirement already satisfied: traitlets>=4.3.1 in c:\\users\\asifa\\appdata\\local\\programs\\python\\python311\\lib\\site-packages (from ipywidgets) (5.11.2)\n",
      "Requirement already satisfied: widgetsnbextension~=4.0.9 in c:\\users\\asifa\\appdata\\local\\programs\\python\\python311\\lib\\site-packages (from ipywidgets) (4.0.9)\n",
      "Requirement already satisfied: jupyterlab-widgets~=3.0.9 in c:\\users\\asifa\\appdata\\local\\programs\\python\\python311\\lib\\site-packages (from ipywidgets) (3.0.9)\n",
      "Requirement already satisfied: backcall in c:\\users\\asifa\\appdata\\local\\programs\\python\\python311\\lib\\site-packages (from ipython>=6.1.0->ipywidgets) (0.2.0)\n",
      "Requirement already satisfied: decorator in c:\\users\\asifa\\appdata\\local\\programs\\python\\python311\\lib\\site-packages (from ipython>=6.1.0->ipywidgets) (5.1.1)\n",
      "Requirement already satisfied: jedi>=0.16 in c:\\users\\asifa\\appdata\\local\\programs\\python\\python311\\lib\\site-packages (from ipython>=6.1.0->ipywidgets) (0.19.1)\n",
      "Requirement already satisfied: matplotlib-inline in c:\\users\\asifa\\appdata\\local\\programs\\python\\python311\\lib\\site-packages (from ipython>=6.1.0->ipywidgets) (0.1.6)\n",
      "Requirement already satisfied: pickleshare in c:\\users\\asifa\\appdata\\local\\programs\\python\\python311\\lib\\site-packages (from ipython>=6.1.0->ipywidgets) (0.7.5)\n",
      "Requirement already satisfied: prompt-toolkit!=3.0.37,<3.1.0,>=3.0.30 in c:\\users\\asifa\\appdata\\local\\programs\\python\\python311\\lib\\site-packages (from ipython>=6.1.0->ipywidgets) (3.0.39)\n",
      "Requirement already satisfied: pygments>=2.4.0 in c:\\users\\asifa\\appdata\\local\\programs\\python\\python311\\lib\\site-packages (from ipython>=6.1.0->ipywidgets) (2.16.1)\n",
      "Requirement already satisfied: stack-data in c:\\users\\asifa\\appdata\\local\\programs\\python\\python311\\lib\\site-packages (from ipython>=6.1.0->ipywidgets) (0.6.3)\n",
      "Requirement already satisfied: colorama in c:\\users\\asifa\\appdata\\local\\programs\\python\\python311\\lib\\site-packages (from ipython>=6.1.0->ipywidgets) (0.4.6)\n",
      "Requirement already satisfied: parso<0.9.0,>=0.8.3 in c:\\users\\asifa\\appdata\\local\\programs\\python\\python311\\lib\\site-packages (from jedi>=0.16->ipython>=6.1.0->ipywidgets) (0.8.3)\n",
      "Requirement already satisfied: wcwidth in c:\\users\\asifa\\appdata\\local\\programs\\python\\python311\\lib\\site-packages (from prompt-toolkit!=3.0.37,<3.1.0,>=3.0.30->ipython>=6.1.0->ipywidgets) (0.2.8)\n",
      "Requirement already satisfied: executing>=1.2.0 in c:\\users\\asifa\\appdata\\local\\programs\\python\\python311\\lib\\site-packages (from stack-data->ipython>=6.1.0->ipywidgets) (2.0.0)\n",
      "Requirement already satisfied: asttokens>=2.1.0 in c:\\users\\asifa\\appdata\\local\\programs\\python\\python311\\lib\\site-packages (from stack-data->ipython>=6.1.0->ipywidgets) (2.4.0)\n",
      "Requirement already satisfied: pure-eval in c:\\users\\asifa\\appdata\\local\\programs\\python\\python311\\lib\\site-packages (from stack-data->ipython>=6.1.0->ipywidgets) (0.2.2)\n",
      "Requirement already satisfied: six>=1.12.0 in c:\\users\\asifa\\appdata\\local\\programs\\python\\python311\\lib\\site-packages (from asttokens>=2.1.0->stack-data->ipython>=6.1.0->ipywidgets) (1.16.0)\n",
      "Requirement already satisfied: matplotlib in c:\\users\\asifa\\appdata\\local\\programs\\python\\python311\\lib\\site-packages (3.8.0)Note: you may need to restart the kernel to use updated packages.\n",
      "\n",
      "Requirement already satisfied: contourpy>=1.0.1 in c:\\users\\asifa\\appdata\\local\\programs\\python\\python311\\lib\\site-packages (from matplotlib) (1.1.1)\n",
      "Requirement already satisfied: cycler>=0.10 in c:\\users\\asifa\\appdata\\local\\programs\\python\\python311\\lib\\site-packages (from matplotlib) (0.12.0)\n",
      "Requirement already satisfied: fonttools>=4.22.0 in c:\\users\\asifa\\appdata\\local\\programs\\python\\python311\\lib\\site-packages (from matplotlib) (4.43.0)\n",
      "Requirement already satisfied: kiwisolver>=1.0.1 in c:\\users\\asifa\\appdata\\local\\programs\\python\\python311\\lib\\site-packages (from matplotlib) (1.4.5)\n",
      "Requirement already satisfied: numpy<2,>=1.21 in c:\\users\\asifa\\appdata\\local\\programs\\python\\python311\\lib\\site-packages (from matplotlib) (1.26.0)\n",
      "Requirement already satisfied: packaging>=20.0 in c:\\users\\asifa\\appdata\\local\\programs\\python\\python311\\lib\\site-packages (from matplotlib) (23.2)\n",
      "Requirement already satisfied: pillow>=6.2.0 in c:\\users\\asifa\\appdata\\local\\programs\\python\\python311\\lib\\site-packages (from matplotlib) (10.0.1)\n",
      "Requirement already satisfied: pyparsing>=2.3.1 in c:\\users\\asifa\\appdata\\local\\programs\\python\\python311\\lib\\site-packages (from matplotlib) (3.1.1)\n",
      "Requirement already satisfied: python-dateutil>=2.7 in c:\\users\\asifa\\appdata\\local\\programs\\python\\python311\\lib\\site-packages (from matplotlib) (2.8.2)\n",
      "Requirement already satisfied: six>=1.5 in c:\\users\\asifa\\appdata\\local\\programs\\python\\python311\\lib\\site-packages (from python-dateutil>=2.7->matplotlib) (1.16.0)\n"
     ]
    },
    {
     "name": "stderr",
     "output_type": "stream",
     "text": [
      "\n",
      "[notice] A new release of pip is available: 23.2.1 -> 24.0\n",
      "[notice] To update, run: python.exe -m pip install --upgrade pip\n"
     ]
    }
   ],
   "source": [
    "# Necessary installs\n",
    "%pip install torch torchvision\n",
    "%pip install tqdm\n",
    "%pip install ipywidgets\n",
    "%pip install matplotlib"
   ]
  },
  {
   "cell_type": "code",
   "execution_count": 2,
   "metadata": {},
   "outputs": [
    {
     "name": "stdout",
     "output_type": "stream",
     "text": [
      "Package importing successful.\n"
     ]
    }
   ],
   "source": [
    "# Relevant torch imports, TQDM required for visualization\n",
    "import os\n",
    "import torch\n",
    "import time\n",
    "import copy\n",
    "import torchvision\n",
    "import numpy as np\n",
    "import torchvision.transforms as transforms\n",
    "from torch.utils.data import DataLoader\n",
    "from torchvision.datasets import ImageFolder\n",
    "from torch import nn, optim\n",
    "from tqdm.notebook import tqdm \n",
    "import matplotlib.pyplot as plt\n",
    "from IPython.display import clear_output\n",
    "from torchvision.models import resnet18, ResNet18_Weights\n",
    "from sklearn.model_selection import ParameterGrid\n",
    "\n",
    "\n",
    "print(\"Package importing successful.\")"
   ]
  },
  {
   "cell_type": "markdown",
   "metadata": {},
   "source": [
    "# Training Configuration "
   ]
  },
  {
   "cell_type": "code",
   "execution_count": 3,
   "metadata": {},
   "outputs": [],
   "source": [
    "# Defining Dataset directory and transformation settings\n",
    "model_dataset_dir = './images/'\n",
    "model_batch_size = 16\n",
    "model_num_workers = 4\n",
    "\n",
    "# Training settings\n",
    "model_num_epochs = 35\n",
    "model_learning_rate = 0.001\n",
    "model_momentum = 0.9\n",
    "model_weight_decay=1e-4\n",
    "\n",
    "# Scheduler settings\n",
    "model_step_size = 6\n",
    "model_gamma = 0.1\n",
    "\n",
    "# Model settings\n",
    "model_save_path = 'saved_models/final_model_weights.tar'\n",
    "\n",
    "# Data transformations\n",
    "# Using mean and standard deviation of imagenet for the normaalization.\n",
    "model_data_transforms = {\n",
    "    'train': transforms.Compose([\n",
    "                transforms.RandomResizedCrop(224),\n",
    "                transforms.RandomHorizontalFlip(),\n",
    "                transforms.RandomVerticalFlip(),\n",
    "                transforms.RandomRotation(degrees=15),\n",
    "                transforms.ColorJitter(brightness=0.1, contrast=0.1, saturation=0.1, hue=0.1),\n",
    "                transforms.ToTensor(),\n",
    "                transforms.Normalize(mean=[0.485, 0.456, 0.406], std=[0.229, 0.224, 0.225])\n",
    "            ]),\n",
    "    'val': transforms.Compose([\n",
    "            transforms.Resize(256),\n",
    "            transforms.CenterCrop(224),\n",
    "            transforms.ToTensor(),\n",
    "            transforms.Normalize(mean=[0.485, 0.456, 0.406], std=[0.229, 0.224, 0.225])\n",
    "        ]),\n",
    "}"
   ]
  },
  {
   "cell_type": "markdown",
   "metadata": {},
   "source": [
    "# Loading and analysing the dataset\n",
    "We are using the PlantNet-300K dataset. Ensure that the set up instructions for model training mentioned in README.md in the root project directory is complete. Specifically, you need to download the dataset, and extract the image folder to this folder director, so there should be a folder in `./model_training/images/` which would contain all the training and validation image sets.\n",
    "\n",
    "Some parts of the implementation are inspired from the official implemention of Model training for PlantNet300K, available at: https://github.com/plantnet/PlantNet-300K"
   ]
  },
  {
   "cell_type": "code",
   "execution_count": null,
   "metadata": {},
   "outputs": [],
   "source": [
    "# Setting image dataset for training and validation\n",
    "image_datasets = {\n",
    "    data: ImageFolder(os.path.join(model_dataset_dir, data), model_data_transforms[data]) \n",
    "    for data in ['train', 'val']\n",
    "}"
   ]
  },
  {
   "cell_type": "code",
   "execution_count": 5,
   "metadata": {},
   "outputs": [
    {
     "name": "stdout",
     "output_type": "stream",
     "text": [
      "Average number of samples per class: 226\n",
      "Class '1363227' has the highest number of samples: 7208\n",
      "Class '1355920' has the lowest number of samples: 2\n"
     ]
    }
   ],
   "source": [
    "# Identifying the classes with low image data\n",
    "classes = np.array(image_datasets['train'].targets)\n",
    "unique_classes, counts = np.unique(classes, return_counts=True)\n",
    "\n",
    "# Calculate average samples per class\n",
    "average_samples = np.mean(counts)\n",
    "print(f\"Average number of samples per class: {average_samples:.0f}\")\n",
    "\n",
    "# the class with the maximum and minimum samples\n",
    "max_samples_index = np.argmax(counts)\n",
    "min_samples_index = np.argmin(counts)\n",
    "\n",
    "max_class_name = image_datasets['train'].classes[unique_classes[max_samples_index]]\n",
    "min_class_name = image_datasets['train'].classes[unique_classes[min_samples_index]]\n",
    "\n",
    "print(f\"Class '{max_class_name}' has the highest number of samples: {counts[max_samples_index]}\")\n",
    "print(f\"Class '{min_class_name}' has the lowest number of samples: {counts[min_samples_index]}\")"
   ]
  },
  {
   "cell_type": "code",
   "execution_count": 6,
   "metadata": {},
   "outputs": [
    {
     "data": {
      "image/png": "[encoded data removed]",
      "text/plain": [
       "<Figure size 1500x700 with 1 Axes>"
      ]
     },
     "metadata": {},
     "output_type": "display_data"
    }
   ],
   "source": [
    "# Visualizing the distribution of images per class\n",
    "plt.figure(figsize=(15, 7))\n",
    "plt.hist(counts, bins=2000, color='green', edgecolor='black', log=True)  \n",
    "plt.title('Histogram of number of sample pictures per class')\n",
    "plt.xlabel('Number of sample pictures')\n",
    "plt.ylabel('Number of Classes')\n",
    "plt.grid(True)\n",
    "plt.show()"
   ]
  },
  {
   "cell_type": "markdown",
   "metadata": {},
   "source": [
    "# Setting up the Model"
   ]
  },
  {
   "cell_type": "code",
   "execution_count": 7,
   "metadata": {},
   "outputs": [],
   "source": [
    "dataloaders = {\n",
    "    data: DataLoader(image_datasets[data], batch_size=model_batch_size, shuffle=True, num_workers=model_num_workers) \n",
    "    for data in ['train', 'val']\n",
    "}"
   ]
  },
  {
   "cell_type": "code",
   "execution_count": 8,
   "metadata": {},
   "outputs": [
    {
     "name": "stdout",
     "output_type": "stream",
     "text": [
      "1\n",
      "NVIDIA GeForce GTX 1660 Ti\n",
      "CUDA available:  True\n"
     ]
    }
   ],
   "source": [
    "# Model setup\n",
    "model = resnet18(weights=ResNet18_Weights.IMAGENET1K_V1)\n",
    "number_of_features = model.fc.in_features # number of features in last layer\n",
    "model.fc = nn.Linear(number_of_features, len(image_datasets['train'].classes)) # Replacing last layer with classes=no.of species\n",
    "\n",
    "\n",
    "# Swithching to CUDA if possible\n",
    "# Recommended to train the model faster, requires CUDA supported GPU\n",
    "print(torch.cuda.device_count())\n",
    "print(torch.cuda.get_device_name(0))\n",
    "print(\"CUDA available: \",torch.cuda.is_available())\n",
    "model = model.to(torch.device(\"cuda\" if torch.cuda.is_available() else \"cpu\"))"
   ]
  },
  {
   "cell_type": "code",
   "execution_count": 9,
   "metadata": {},
   "outputs": [],
   "source": [
    "criterion = nn.CrossEntropyLoss()\n",
    "# optimizer = torch.optim.AdamW(model.parameters(), lr=model_learning_rate, weight_decay=model_weight_decay)\n",
    "optimizer = torch.optim.SGD(model.parameters(), lr=model_learning_rate, momentum=model_momentum, weight_decay=model_weight_decay)\n",
    "scheduler = optim.lr_scheduler.StepLR(optimizer, step_size=model_step_size, gamma=model_gamma)\n",
    "\n",
    "num_epochs =model_num_epochs\n"
   ]
  },
  {
   "cell_type": "code",
   "execution_count": 10,
   "metadata": {},
   "outputs": [],
   "source": [
    "# Early stopper:\n",
    "# Inspried and modified from: https://stackoverflow.com/questions/71998978/early-stopping-in-pytorch\n",
    "\n",
    "class EarlyStopper:\n",
    "    def __init__(self, patience=3, min_drop=0.03):\n",
    "        self.patience = patience\n",
    "        self.min_drop = min_drop\n",
    "        self.counter = 0\n",
    "        self.best_accuracy = 0\n",
    "\n",
    "    def check_accuracy_drop(self, current_accuracy):\n",
    "        if current_accuracy > self.best_accuracy:\n",
    "            self.best_accuracy = current_accuracy\n",
    "            self.counter = 0\n",
    "        elif self.best_accuracy - current_accuracy >= self.min_drop:\n",
    "            self.counter += 1\n",
    "            print(\"WARNING: accuracy dropped below minimum drop threshold!\")\n",
    "            if self.counter >= self.patience:\n",
    "                return True\n",
    "        return False"
   ]
  },
  {
   "cell_type": "code",
   "execution_count": 11,
   "metadata": {},
   "outputs": [
    {
     "data": {
      "application/vnd.jupyter.widget-view+json": {
       "model_id": "cf2c71bc3e6542e59c26166626f1a457",
       "version_major": 2,
       "version_minor": 0
      },
      "text/plain": [
       "Training Epoch 1/35:   0%|          | 0/15245 [00:00<?, ?batch/s]"
      ]
     },
     "metadata": {},
     "output_type": "display_data"
    },
    {
     "data": {
      "application/vnd.jupyter.widget-view+json": {
       "model_id": "49d160bf33cc46f88c28faf72492dee2",
       "version_major": 2,
       "version_minor": 0
      },
      "text/plain": [
       "Validation Epoch 1/35:   0%|          | 0/1945 [00:00<?, ?batch/s]"
      ]
     },
     "metadata": {},
     "output_type": "display_data"
    },
    {
     "name": "stdout",
     "output_type": "stream",
     "text": [
      "Epoch 1/35 - Train Loss: 2.6414, Train Acc: 46.76%, Val Loss: 1.7647, Val Acc: 62.39%, Time: 1811.00s\n",
      "\n"
     ]
    },
    {
     "data": {
      "application/vnd.jupyter.widget-view+json": {
       "model_id": "e3ba9d59917e465c974f0200d9c4edcc",
       "version_major": 2,
       "version_minor": 0
      },
      "text/plain": [
       "Training Epoch 2/35:   0%|          | 0/15245 [00:00<?, ?batch/s]"
      ]
     },
     "metadata": {},
     "output_type": "display_data"
    },
    {
     "data": {
      "application/vnd.jupyter.widget-view+json": {
       "model_id": "8c6a3bf9313d429189db2b3d4adaa29c",
       "version_major": 2,
       "version_minor": 0
      },
      "text/plain": [
       "Validation Epoch 2/35:   0%|          | 0/1945 [00:00<?, ?batch/s]"
      ]
     },
     "metadata": {},
     "output_type": "display_data"
    },
    {
     "name": "stdout",
     "output_type": "stream",
     "text": [
      "Epoch 2/35 - Train Loss: 1.8795, Train Acc: 58.12%, Val Loss: 1.5205, Val Acc: 66.62%, Time: 1602.10s\n",
      "\n"
     ]
    },
    {
     "data": {
      "application/vnd.jupyter.widget-view+json": {
       "model_id": "9587b662f10d46f0898a2302750777a3",
       "version_major": 2,
       "version_minor": 0
      },
      "text/plain": [
       "Training Epoch 3/35:   0%|          | 0/15245 [00:00<?, ?batch/s]"
      ]
     },
     "metadata": {},
     "output_type": "display_data"
    },
    {
     "data": {
      "application/vnd.jupyter.widget-view+json": {
       "model_id": "b2a5caa052ad4a27baf82312d8e414bb",
       "version_major": 2,
       "version_minor": 0
      },
      "text/plain": [
       "Validation Epoch 3/35:   0%|          | 0/1945 [00:00<?, ?batch/s]"
      ]
     },
     "metadata": {},
     "output_type": "display_data"
    },
    {
     "name": "stdout",
     "output_type": "stream",
     "text": [
      "Epoch 3/35 - Train Loss: 1.6706, Train Acc: 61.70%, Val Loss: 1.3664, Val Acc: 69.16%, Time: 1547.40s\n",
      "\n"
     ]
    },
    {
     "data": {
      "application/vnd.jupyter.widget-view+json": {
       "model_id": "fa11aa4c0b5e45b882376cee56f8200a",
       "version_major": 2,
       "version_minor": 0
      },
      "text/plain": [
       "Training Epoch 4/35:   0%|          | 0/15245 [00:00<?, ?batch/s]"
      ]
     },
     "metadata": {},
     "output_type": "display_data"
    },
    {
     "data": {
      "application/vnd.jupyter.widget-view+json": {
       "model_id": "8cc4a10414b0432f917ba0428c1d059b",
       "version_major": 2,
       "version_minor": 0
      },
      "text/plain": [
       "Validation Epoch 4/35:   0%|          | 0/1945 [00:00<?, ?batch/s]"
      ]
     },
     "metadata": {},
     "output_type": "display_data"
    },
    {
     "name": "stdout",
     "output_type": "stream",
     "text": [
      "Epoch 4/35 - Train Loss: 1.5515, Train Acc: 63.58%, Val Loss: 1.3063, Val Acc: 69.92%, Time: 1425.54s\n",
      "\n"
     ]
    },
    {
     "data": {
      "application/vnd.jupyter.widget-view+json": {
       "model_id": "f8202cef5f9848b5a63d5adf422b7d1c",
       "version_major": 2,
       "version_minor": 0
      },
      "text/plain": [
       "Training Epoch 5/35:   0%|          | 0/15245 [00:00<?, ?batch/s]"
      ]
     },
     "metadata": {},
     "output_type": "display_data"
    },
    {
     "data": {
      "application/vnd.jupyter.widget-view+json": {
       "model_id": "adbc71cd5518427bb09988624588a31c",
       "version_major": 2,
       "version_minor": 0
      },
      "text/plain": [
       "Validation Epoch 5/35:   0%|          | 0/1945 [00:00<?, ?batch/s]"
      ]
     },
     "metadata": {},
     "output_type": "display_data"
    },
    {
     "name": "stdout",
     "output_type": "stream",
     "text": [
      "Epoch 5/35 - Train Loss: 1.4635, Train Acc: 65.13%, Val Loss: 1.2267, Val Acc: 71.39%, Time: 1598.43s\n",
      "\n"
     ]
    },
    {
     "data": {
      "application/vnd.jupyter.widget-view+json": {
       "model_id": "50bf4d517b9e4ed19921c8f96e9c003b",
       "version_major": 2,
       "version_minor": 0
      },
      "text/plain": [
       "Training Epoch 6/35:   0%|          | 0/15245 [00:00<?, ?batch/s]"
      ]
     },
     "metadata": {},
     "output_type": "display_data"
    },
    {
     "data": {
      "application/vnd.jupyter.widget-view+json": {
       "model_id": "abdc0b113a574aa6943b435871853ef5",
       "version_major": 2,
       "version_minor": 0
      },
      "text/plain": [
       "Validation Epoch 6/35:   0%|          | 0/1945 [00:00<?, ?batch/s]"
      ]
     },
     "metadata": {},
     "output_type": "display_data"
    },
    {
     "name": "stdout",
     "output_type": "stream",
     "text": [
      "Epoch 6/35 - Train Loss: 1.4036, Train Acc: 66.18%, Val Loss: 1.1950, Val Acc: 72.07%, Time: 1643.86s\n",
      "\n"
     ]
    },
    {
     "data": {
      "application/vnd.jupyter.widget-view+json": {
       "model_id": "23fc8f59ea9847879dd31b9445a7e80d",
       "version_major": 2,
       "version_minor": 0
      },
      "text/plain": [
       "Training Epoch 7/35:   0%|          | 0/15245 [00:00<?, ?batch/s]"
      ]
     },
     "metadata": {},
     "output_type": "display_data"
    },
    {
     "data": {
      "application/vnd.jupyter.widget-view+json": {
       "model_id": "c3cfb616b71542cf9a8a81c80aa76684",
       "version_major": 2,
       "version_minor": 0
      },
      "text/plain": [
       "Validation Epoch 7/35:   0%|          | 0/1945 [00:00<?, ?batch/s]"
      ]
     },
     "metadata": {},
     "output_type": "display_data"
    },
    {
     "name": "stdout",
     "output_type": "stream",
     "text": [
      "Epoch 7/35 - Train Loss: 1.3497, Train Acc: 67.14%, Val Loss: 1.1516, Val Acc: 72.77%, Time: 1670.58s\n",
      "\n"
     ]
    },
    {
     "data": {
      "application/vnd.jupyter.widget-view+json": {
       "model_id": "8516d90ed47249929dd1a3b2fec0ede5",
       "version_major": 2,
       "version_minor": 0
      },
      "text/plain": [
       "Training Epoch 8/35:   0%|          | 0/15245 [00:00<?, ?batch/s]"
      ]
     },
     "metadata": {},
     "output_type": "display_data"
    },
    {
     "data": {
      "application/vnd.jupyter.widget-view+json": {
       "model_id": "98514fa1d188405b92f2b0e74f43c257",
       "version_major": 2,
       "version_minor": 0
      },
      "text/plain": [
       "Validation Epoch 8/35:   0%|          | 0/1945 [00:00<?, ?batch/s]"
      ]
     },
     "metadata": {},
     "output_type": "display_data"
    },
    {
     "name": "stdout",
     "output_type": "stream",
     "text": [
      "Epoch 8/35 - Train Loss: 1.3062, Train Acc: 67.81%, Val Loss: 1.1153, Val Acc: 73.40%, Time: 1609.02s\n",
      "\n"
     ]
    },
    {
     "data": {
      "application/vnd.jupyter.widget-view+json": {
       "model_id": "aa2278b8ea674132a7920ead401a52bf",
       "version_major": 2,
       "version_minor": 0
      },
      "text/plain": [
       "Training Epoch 9/35:   0%|          | 0/15245 [00:00<?, ?batch/s]"
      ]
     },
     "metadata": {},
     "output_type": "display_data"
    },
    {
     "data": {
      "application/vnd.jupyter.widget-view+json": {
       "model_id": "b62b4ff766ad4d7a877b802e901eb48b",
       "version_major": 2,
       "version_minor": 0
      },
      "text/plain": [
       "Validation Epoch 9/35:   0%|          | 0/1945 [00:00<?, ?batch/s]"
      ]
     },
     "metadata": {},
     "output_type": "display_data"
    },
    {
     "name": "stdout",
     "output_type": "stream",
     "text": [
      "Epoch 9/35 - Train Loss: 1.2686, Train Acc: 68.68%, Val Loss: 1.0819, Val Acc: 73.72%, Time: 1691.50s\n",
      "\n"
     ]
    },
    {
     "data": {
      "application/vnd.jupyter.widget-view+json": {
       "model_id": "971b0c1b4c93435cb1895fbac6206c28",
       "version_major": 2,
       "version_minor": 0
      },
      "text/plain": [
       "Training Epoch 10/35:   0%|          | 0/15245 [00:00<?, ?batch/s]"
      ]
     },
     "metadata": {},
     "output_type": "display_data"
    },
    {
     "data": {
      "application/vnd.jupyter.widget-view+json": {
       "model_id": "7864aae195ed4d6fb31fac9e907021d1",
       "version_major": 2,
       "version_minor": 0
      },
      "text/plain": [
       "Validation Epoch 10/35:   0%|          | 0/1945 [00:00<?, ?batch/s]"
      ]
     },
     "metadata": {},
     "output_type": "display_data"
    },
    {
     "name": "stdout",
     "output_type": "stream",
     "text": [
      "Epoch 10/35 - Train Loss: 1.2402, Train Acc: 69.21%, Val Loss: 1.0714, Val Acc: 74.12%, Time: 1730.99s\n",
      "\n"
     ]
    },
    {
     "data": {
      "application/vnd.jupyter.widget-view+json": {
       "model_id": "62a099ea784247c7bf14b65bd7618be6",
       "version_major": 2,
       "version_minor": 0
      },
      "text/plain": [
       "Training Epoch 11/35:   0%|          | 0/15245 [00:00<?, ?batch/s]"
      ]
     },
     "metadata": {},
     "output_type": "display_data"
    },
    {
     "data": {
      "application/vnd.jupyter.widget-view+json": {
       "model_id": "d11dcfb2a6ef40b3aebd83c82b00e120",
       "version_major": 2,
       "version_minor": 0
      },
      "text/plain": [
       "Validation Epoch 11/35:   0%|          | 0/1945 [00:00<?, ?batch/s]"
      ]
     },
     "metadata": {},
     "output_type": "display_data"
    },
    {
     "name": "stdout",
     "output_type": "stream",
     "text": [
      "Epoch 11/35 - Train Loss: 1.2185, Train Acc: 69.60%, Val Loss: 1.0727, Val Acc: 73.96%, Time: 1659.81s\n",
      "\n"
     ]
    },
    {
     "data": {
      "application/vnd.jupyter.widget-view+json": {
       "model_id": "189ea27c1d734154982898467417747b",
       "version_major": 2,
       "version_minor": 0
      },
      "text/plain": [
       "Training Epoch 12/35:   0%|          | 0/15245 [00:00<?, ?batch/s]"
      ]
     },
     "metadata": {},
     "output_type": "display_data"
    },
    {
     "data": {
      "application/vnd.jupyter.widget-view+json": {
       "model_id": "22b1cf6f630b4a06a58410611a407ddb",
       "version_major": 2,
       "version_minor": 0
      },
      "text/plain": [
       "Validation Epoch 12/35:   0%|          | 0/1945 [00:00<?, ?batch/s]"
      ]
     },
     "metadata": {},
     "output_type": "display_data"
    },
    {
     "name": "stdout",
     "output_type": "stream",
     "text": [
      "Epoch 12/35 - Train Loss: 1.1917, Train Acc: 70.09%, Val Loss: 1.0318, Val Acc: 74.58%, Time: 1633.14s\n",
      "\n"
     ]
    },
    {
     "data": {
      "application/vnd.jupyter.widget-view+json": {
       "model_id": "3d55e5cac6094b2e9699f11cdf25e997",
       "version_major": 2,
       "version_minor": 0
      },
      "text/plain": [
       "Training Epoch 13/35:   0%|          | 0/15245 [00:00<?, ?batch/s]"
      ]
     },
     "metadata": {},
     "output_type": "display_data"
    },
    {
     "data": {
      "application/vnd.jupyter.widget-view+json": {
       "model_id": "41c4363c6a0343e29826a01d6d1af9dc",
       "version_major": 2,
       "version_minor": 0
      },
      "text/plain": [
       "Validation Epoch 13/35:   0%|          | 0/1945 [00:00<?, ?batch/s]"
      ]
     },
     "metadata": {},
     "output_type": "display_data"
    },
    {
     "name": "stdout",
     "output_type": "stream",
     "text": [
      "Epoch 13/35 - Train Loss: 1.1710, Train Acc: 70.47%, Val Loss: 1.0420, Val Acc: 74.62%, Time: 1684.46s\n",
      "\n"
     ]
    },
    {
     "data": {
      "application/vnd.jupyter.widget-view+json": {
       "model_id": "1552012e506b47b88089a607438602d6",
       "version_major": 2,
       "version_minor": 0
      },
      "text/plain": [
       "Training Epoch 14/35:   0%|          | 0/15245 [00:00<?, ?batch/s]"
      ]
     },
     "metadata": {},
     "output_type": "display_data"
    },
    {
     "data": {
      "application/vnd.jupyter.widget-view+json": {
       "model_id": "fe7296c07b8b4f1597d52b09faf1e217",
       "version_major": 2,
       "version_minor": 0
      },
      "text/plain": [
       "Validation Epoch 14/35:   0%|          | 0/1945 [00:00<?, ?batch/s]"
      ]
     },
     "metadata": {},
     "output_type": "display_data"
    },
    {
     "name": "stdout",
     "output_type": "stream",
     "text": [
      "Epoch 14/35 - Train Loss: 1.1491, Train Acc: 70.87%, Val Loss: 1.0068, Val Acc: 75.09%, Time: 1749.77s\n",
      "\n"
     ]
    },
    {
     "data": {
      "application/vnd.jupyter.widget-view+json": {
       "model_id": "c4335187137747deaa78f16bcb08b1e1",
       "version_major": 2,
       "version_minor": 0
      },
      "text/plain": [
       "Training Epoch 15/35:   0%|          | 0/15245 [00:00<?, ?batch/s]"
      ]
     },
     "metadata": {},
     "output_type": "display_data"
    },
    {
     "data": {
      "application/vnd.jupyter.widget-view+json": {
       "model_id": "7046cd4babb24567a6fcc5265008193d",
       "version_major": 2,
       "version_minor": 0
      },
      "text/plain": [
       "Validation Epoch 15/35:   0%|          | 0/1945 [00:00<?, ?batch/s]"
      ]
     },
     "metadata": {},
     "output_type": "display_data"
    },
    {
     "name": "stdout",
     "output_type": "stream",
     "text": [
      "Epoch 15/35 - Train Loss: 1.1335, Train Acc: 71.21%, Val Loss: 1.0058, Val Acc: 75.25%, Time: 1756.82s\n",
      "\n"
     ]
    },
    {
     "data": {
      "application/vnd.jupyter.widget-view+json": {
       "model_id": "fc3e55c4e78d4035a6d06cd30dbf824e",
       "version_major": 2,
       "version_minor": 0
      },
      "text/plain": [
       "Training Epoch 16/35:   0%|          | 0/15245 [00:00<?, ?batch/s]"
      ]
     },
     "metadata": {},
     "output_type": "display_data"
    },
    {
     "data": {
      "application/vnd.jupyter.widget-view+json": {
       "model_id": "6132772f7ae54fcf9c5f633c15145b07",
       "version_major": 2,
       "version_minor": 0
      },
      "text/plain": [
       "Validation Epoch 16/35:   0%|          | 0/1945 [00:00<?, ?batch/s]"
      ]
     },
     "metadata": {},
     "output_type": "display_data"
    },
    {
     "name": "stdout",
     "output_type": "stream",
     "text": [
      "Epoch 16/35 - Train Loss: 1.1194, Train Acc: 71.45%, Val Loss: 0.9880, Val Acc: 75.46%, Time: 1690.95s\n",
      "\n"
     ]
    },
    {
     "data": {
      "application/vnd.jupyter.widget-view+json": {
       "model_id": "e99909960f0548ba852a872917b8e26f",
       "version_major": 2,
       "version_minor": 0
      },
      "text/plain": [
       "Training Epoch 17/35:   0%|          | 0/15245 [00:00<?, ?batch/s]"
      ]
     },
     "metadata": {},
     "output_type": "display_data"
    },
    {
     "data": {
      "application/vnd.jupyter.widget-view+json": {
       "model_id": "430304eb7f8c4d7cb847d2a84f67f7d7",
       "version_major": 2,
       "version_minor": 0
      },
      "text/plain": [
       "Validation Epoch 17/35:   0%|          | 0/1945 [00:00<?, ?batch/s]"
      ]
     },
     "metadata": {},
     "output_type": "display_data"
    },
    {
     "name": "stdout",
     "output_type": "stream",
     "text": [
      "Epoch 17/35 - Train Loss: 1.1014, Train Acc: 71.77%, Val Loss: 0.9971, Val Acc: 75.55%, Time: 2169.59s\n",
      "\n"
     ]
    },
    {
     "data": {
      "application/vnd.jupyter.widget-view+json": {
       "model_id": "3e1fb41bc6994e3aaf7093b5afc4de4f",
       "version_major": 2,
       "version_minor": 0
      },
      "text/plain": [
       "Training Epoch 18/35:   0%|          | 0/15245 [00:00<?, ?batch/s]"
      ]
     },
     "metadata": {},
     "output_type": "display_data"
    },
    {
     "data": {
      "application/vnd.jupyter.widget-view+json": {
       "model_id": "7e99d8161c774b9cb435f72bdbc02391",
       "version_major": 2,
       "version_minor": 0
      },
      "text/plain": [
       "Validation Epoch 18/35:   0%|          | 0/1945 [00:00<?, ?batch/s]"
      ]
     },
     "metadata": {},
     "output_type": "display_data"
    },
    {
     "name": "stdout",
     "output_type": "stream",
     "text": [
      "Epoch 18/35 - Train Loss: 1.0916, Train Acc: 71.99%, Val Loss: 0.9781, Val Acc: 75.53%, Time: 1974.11s\n",
      "\n"
     ]
    },
    {
     "data": {
      "application/vnd.jupyter.widget-view+json": {
       "model_id": "5710c431a8c84689a82b23c35bf366f6",
       "version_major": 2,
       "version_minor": 0
      },
      "text/plain": [
       "Training Epoch 19/35:   0%|          | 0/15245 [00:00<?, ?batch/s]"
      ]
     },
     "metadata": {},
     "output_type": "display_data"
    },
    {
     "data": {
      "application/vnd.jupyter.widget-view+json": {
       "model_id": "ce04fc518a5c453ab26585ccbf28310b",
       "version_major": 2,
       "version_minor": 0
      },
      "text/plain": [
       "Validation Epoch 19/35:   0%|          | 0/1945 [00:00<?, ?batch/s]"
      ]
     },
     "metadata": {},
     "output_type": "display_data"
    },
    {
     "name": "stdout",
     "output_type": "stream",
     "text": [
      "Epoch 19/35 - Train Loss: 1.0781, Train Acc: 72.18%, Val Loss: 0.9980, Val Acc: 75.17%, Time: 1784.36s\n",
      "\n"
     ]
    },
    {
     "data": {
      "application/vnd.jupyter.widget-view+json": {
       "model_id": "a949d178b46a42e29965bddecf710b17",
       "version_major": 2,
       "version_minor": 0
      },
      "text/plain": [
       "Training Epoch 20/35:   0%|          | 0/15245 [00:00<?, ?batch/s]"
      ]
     },
     "metadata": {},
     "output_type": "display_data"
    },
    {
     "data": {
      "application/vnd.jupyter.widget-view+json": {
       "model_id": "7a66c3cd28224893a181cbb8ea8c75a0",
       "version_major": 2,
       "version_minor": 0
      },
      "text/plain": [
       "Validation Epoch 20/35:   0%|          | 0/1945 [00:00<?, ?batch/s]"
      ]
     },
     "metadata": {},
     "output_type": "display_data"
    },
    {
     "name": "stdout",
     "output_type": "stream",
     "text": [
      "Epoch 20/35 - Train Loss: 1.0668, Train Acc: 72.47%, Val Loss: 0.9735, Val Acc: 75.54%, Time: 1726.43s\n",
      "\n"
     ]
    },
    {
     "data": {
      "application/vnd.jupyter.widget-view+json": {
       "model_id": "8cabac49421c4f81a7d4d9357172ac20",
       "version_major": 2,
       "version_minor": 0
      },
      "text/plain": [
       "Training Epoch 21/35:   0%|          | 0/15245 [00:00<?, ?batch/s]"
      ]
     },
     "metadata": {},
     "output_type": "display_data"
    },
    {
     "data": {
      "application/vnd.jupyter.widget-view+json": {
       "model_id": "56a5f08310d442488dac85c28ca0b3f1",
       "version_major": 2,
       "version_minor": 0
      },
      "text/plain": [
       "Validation Epoch 21/35:   0%|          | 0/1945 [00:00<?, ?batch/s]"
      ]
     },
     "metadata": {},
     "output_type": "display_data"
    },
    {
     "name": "stdout",
     "output_type": "stream",
     "text": [
      "Epoch 21/35 - Train Loss: 1.0556, Train Acc: 72.69%, Val Loss: 0.9592, Val Acc: 75.98%, Time: 1708.95s\n",
      "\n"
     ]
    },
    {
     "data": {
      "application/vnd.jupyter.widget-view+json": {
       "model_id": "ff930d42e5894b4b95b67a3d59aa7443",
       "version_major": 2,
       "version_minor": 0
      },
      "text/plain": [
       "Training Epoch 22/35:   0%|          | 0/15245 [00:00<?, ?batch/s]"
      ]
     },
     "metadata": {},
     "output_type": "display_data"
    },
    {
     "data": {
      "application/vnd.jupyter.widget-view+json": {
       "model_id": "7b01bc20c525475b824925df301838f7",
       "version_major": 2,
       "version_minor": 0
      },
      "text/plain": [
       "Validation Epoch 22/35:   0%|          | 0/1945 [00:00<?, ?batch/s]"
      ]
     },
     "metadata": {},
     "output_type": "display_data"
    },
    {
     "name": "stdout",
     "output_type": "stream",
     "text": [
      "Epoch 22/35 - Train Loss: 1.0435, Train Acc: 72.94%, Val Loss: 0.9614, Val Acc: 76.16%, Time: 1720.88s\n",
      "\n"
     ]
    },
    {
     "data": {
      "application/vnd.jupyter.widget-view+json": {
       "model_id": "2f5a37a4656c4453bcc3eea5fa739466",
       "version_major": 2,
       "version_minor": 0
      },
      "text/plain": [
       "Training Epoch 23/35:   0%|          | 0/15245 [00:00<?, ?batch/s]"
      ]
     },
     "metadata": {},
     "output_type": "display_data"
    },
    {
     "data": {
      "application/vnd.jupyter.widget-view+json": {
       "model_id": "61982b43373e4ce79ca5b747da3c7c11",
       "version_major": 2,
       "version_minor": 0
      },
      "text/plain": [
       "Validation Epoch 23/35:   0%|          | 0/1945 [00:00<?, ?batch/s]"
      ]
     },
     "metadata": {},
     "output_type": "display_data"
    },
    {
     "name": "stdout",
     "output_type": "stream",
     "text": [
      "Epoch 23/35 - Train Loss: 1.0345, Train Acc: 73.08%, Val Loss: 0.9495, Val Acc: 76.16%, Time: 1583.60s\n",
      "\n"
     ]
    },
    {
     "data": {
      "application/vnd.jupyter.widget-view+json": {
       "model_id": "924cc20df81a44b18e6e91c319547f10",
       "version_major": 2,
       "version_minor": 0
      },
      "text/plain": [
       "Training Epoch 24/35:   0%|          | 0/15245 [00:00<?, ?batch/s]"
      ]
     },
     "metadata": {},
     "output_type": "display_data"
    },
    {
     "data": {
      "application/vnd.jupyter.widget-view+json": {
       "model_id": "2c024bb16a344fd597f8fa9e0aa5b574",
       "version_major": 2,
       "version_minor": 0
      },
      "text/plain": [
       "Validation Epoch 24/35:   0%|          | 0/1945 [00:00<?, ?batch/s]"
      ]
     },
     "metadata": {},
     "output_type": "display_data"
    },
    {
     "name": "stdout",
     "output_type": "stream",
     "text": [
      "Epoch 24/35 - Train Loss: 1.0264, Train Acc: 73.26%, Val Loss: 0.9393, Val Acc: 76.22%, Time: 1586.23s\n",
      "\n"
     ]
    },
    {
     "data": {
      "application/vnd.jupyter.widget-view+json": {
       "model_id": "831256efca434748b5d738a4f336b019",
       "version_major": 2,
       "version_minor": 0
      },
      "text/plain": [
       "Training Epoch 25/35:   0%|          | 0/15245 [00:00<?, ?batch/s]"
      ]
     },
     "metadata": {},
     "output_type": "display_data"
    },
    {
     "data": {
      "application/vnd.jupyter.widget-view+json": {
       "model_id": "fae2168202b9459e8e84651f88661493",
       "version_major": 2,
       "version_minor": 0
      },
      "text/plain": [
       "Validation Epoch 25/35:   0%|          | 0/1945 [00:00<?, ?batch/s]"
      ]
     },
     "metadata": {},
     "output_type": "display_data"
    },
    {
     "name": "stdout",
     "output_type": "stream",
     "text": [
      "Epoch 25/35 - Train Loss: 1.0150, Train Acc: 73.46%, Val Loss: 0.9483, Val Acc: 76.29%, Time: 1578.71s\n",
      "\n"
     ]
    },
    {
     "data": {
      "application/vnd.jupyter.widget-view+json": {
       "model_id": "69aa0e7590a242459fcca74724596a82",
       "version_major": 2,
       "version_minor": 0
      },
      "text/plain": [
       "Training Epoch 26/35:   0%|          | 0/15245 [00:00<?, ?batch/s]"
      ]
     },
     "metadata": {},
     "output_type": "display_data"
    },
    {
     "data": {
      "application/vnd.jupyter.widget-view+json": {
       "model_id": "dab2eb81265142fa8667c674599faf20",
       "version_major": 2,
       "version_minor": 0
      },
      "text/plain": [
       "Validation Epoch 26/35:   0%|          | 0/1945 [00:00<?, ?batch/s]"
      ]
     },
     "metadata": {},
     "output_type": "display_data"
    },
    {
     "name": "stdout",
     "output_type": "stream",
     "text": [
      "Epoch 26/35 - Train Loss: 1.0153, Train Acc: 73.47%, Val Loss: 0.9490, Val Acc: 76.18%, Time: 1584.42s\n",
      "\n"
     ]
    },
    {
     "data": {
      "application/vnd.jupyter.widget-view+json": {
       "model_id": "f403ecb4e1fa44a5a6e9ec176b202610",
       "version_major": 2,
       "version_minor": 0
      },
      "text/plain": [
       "Training Epoch 27/35:   0%|          | 0/15245 [00:00<?, ?batch/s]"
      ]
     },
     "metadata": {},
     "output_type": "display_data"
    },
    {
     "data": {
      "application/vnd.jupyter.widget-view+json": {
       "model_id": "0076cbdd792d4824ab657af8b13c3348",
       "version_major": 2,
       "version_minor": 0
      },
      "text/plain": [
       "Validation Epoch 27/35:   0%|          | 0/1945 [00:00<?, ?batch/s]"
      ]
     },
     "metadata": {},
     "output_type": "display_data"
    },
    {
     "name": "stdout",
     "output_type": "stream",
     "text": [
      "Epoch 27/35 - Train Loss: 1.0027, Train Acc: 73.68%, Val Loss: 0.9296, Val Acc: 76.65%, Time: 1579.39s\n",
      "\n"
     ]
    },
    {
     "data": {
      "application/vnd.jupyter.widget-view+json": {
       "model_id": "fca9f2bc34c644c9b7c79ca576041389",
       "version_major": 2,
       "version_minor": 0
      },
      "text/plain": [
       "Training Epoch 28/35:   0%|          | 0/15245 [00:00<?, ?batch/s]"
      ]
     },
     "metadata": {},
     "output_type": "display_data"
    },
    {
     "data": {
      "application/vnd.jupyter.widget-view+json": {
       "model_id": "e9b80c905ac24213acd0803c49ff7686",
       "version_major": 2,
       "version_minor": 0
      },
      "text/plain": [
       "Validation Epoch 28/35:   0%|          | 0/1945 [00:00<?, ?batch/s]"
      ]
     },
     "metadata": {},
     "output_type": "display_data"
    },
    {
     "name": "stdout",
     "output_type": "stream",
     "text": [
      "Epoch 28/35 - Train Loss: 0.9978, Train Acc: 73.90%, Val Loss: 0.9347, Val Acc: 76.49%, Time: 1586.95s\n",
      "\n"
     ]
    },
    {
     "data": {
      "application/vnd.jupyter.widget-view+json": {
       "model_id": "c0356d6cdae04aa69a48ae49fe130dca",
       "version_major": 2,
       "version_minor": 0
      },
      "text/plain": [
       "Training Epoch 29/35:   0%|          | 0/15245 [00:00<?, ?batch/s]"
      ]
     },
     "metadata": {},
     "output_type": "display_data"
    },
    {
     "data": {
      "application/vnd.jupyter.widget-view+json": {
       "model_id": "91ce29bd70c2437e832ada81a78c8b20",
       "version_major": 2,
       "version_minor": 0
      },
      "text/plain": [
       "Validation Epoch 29/35:   0%|          | 0/1945 [00:00<?, ?batch/s]"
      ]
     },
     "metadata": {},
     "output_type": "display_data"
    },
    {
     "name": "stdout",
     "output_type": "stream",
     "text": [
      "Epoch 29/35 - Train Loss: 0.9923, Train Acc: 73.98%, Val Loss: 0.9242, Val Acc: 76.73%, Time: 1625.04s\n",
      "\n"
     ]
    },
    {
     "data": {
      "application/vnd.jupyter.widget-view+json": {
       "model_id": "0ffb4749cb95420da65a09686461fd8e",
       "version_major": 2,
       "version_minor": 0
      },
      "text/plain": [
       "Training Epoch 30/35:   0%|          | 0/15245 [00:00<?, ?batch/s]"
      ]
     },
     "metadata": {},
     "output_type": "display_data"
    },
    {
     "data": {
      "application/vnd.jupyter.widget-view+json": {
       "model_id": "1f8d6933e01041a4bbd8f872efbc5594",
       "version_major": 2,
       "version_minor": 0
      },
      "text/plain": [
       "Validation Epoch 30/35:   0%|          | 0/1945 [00:00<?, ?batch/s]"
      ]
     },
     "metadata": {},
     "output_type": "display_data"
    },
    {
     "name": "stdout",
     "output_type": "stream",
     "text": [
      "Epoch 30/35 - Train Loss: 0.9823, Train Acc: 74.23%, Val Loss: 0.9248, Val Acc: 76.51%, Time: 1753.30s\n",
      "\n"
     ]
    },
    {
     "data": {
      "application/vnd.jupyter.widget-view+json": {
       "model_id": "073bcf4eefe34fdfb44b0da190366d41",
       "version_major": 2,
       "version_minor": 0
      },
      "text/plain": [
       "Training Epoch 31/35:   0%|          | 0/15245 [00:00<?, ?batch/s]"
      ]
     },
     "metadata": {},
     "output_type": "display_data"
    },
    {
     "data": {
      "application/vnd.jupyter.widget-view+json": {
       "model_id": "2a7ded2a144341a0b3069f7a47cf7bb5",
       "version_major": 2,
       "version_minor": 0
      },
      "text/plain": [
       "Validation Epoch 31/35:   0%|          | 0/1945 [00:00<?, ?batch/s]"
      ]
     },
     "metadata": {},
     "output_type": "display_data"
    },
    {
     "name": "stdout",
     "output_type": "stream",
     "text": [
      "Epoch 31/35 - Train Loss: 0.9767, Train Acc: 74.31%, Val Loss: 0.9351, Val Acc: 76.26%, Time: 1762.36s\n",
      "\n"
     ]
    },
    {
     "data": {
      "application/vnd.jupyter.widget-view+json": {
       "model_id": "1ad4c9211e4043ed9854b57a8a019417",
       "version_major": 2,
       "version_minor": 0
      },
      "text/plain": [
       "Training Epoch 32/35:   0%|          | 0/15245 [00:00<?, ?batch/s]"
      ]
     },
     "metadata": {},
     "output_type": "display_data"
    },
    {
     "data": {
      "application/vnd.jupyter.widget-view+json": {
       "model_id": "892e2902c6c04e349f9c44fcb5ec0d98",
       "version_major": 2,
       "version_minor": 0
      },
      "text/plain": [
       "Validation Epoch 32/35:   0%|          | 0/1945 [00:00<?, ?batch/s]"
      ]
     },
     "metadata": {},
     "output_type": "display_data"
    },
    {
     "name": "stdout",
     "output_type": "stream",
     "text": [
      "Epoch 32/35 - Train Loss: 0.9715, Train Acc: 74.33%, Val Loss: 0.9080, Val Acc: 76.95%, Time: 1762.39s\n",
      "\n"
     ]
    },
    {
     "data": {
      "application/vnd.jupyter.widget-view+json": {
       "model_id": "5fa9c230e9204f9ca6c1af2ab0be2e37",
       "version_major": 2,
       "version_minor": 0
      },
      "text/plain": [
       "Training Epoch 33/35:   0%|          | 0/15245 [00:00<?, ?batch/s]"
      ]
     },
     "metadata": {},
     "output_type": "display_data"
    },
    {
     "data": {
      "application/vnd.jupyter.widget-view+json": {
       "model_id": "91618948eeb5442a92dfb1bd3ace7040",
       "version_major": 2,
       "version_minor": 0
      },
      "text/plain": [
       "Validation Epoch 33/35:   0%|          | 0/1945 [00:00<?, ?batch/s]"
      ]
     },
     "metadata": {},
     "output_type": "display_data"
    },
    {
     "name": "stdout",
     "output_type": "stream",
     "text": [
      "Epoch 33/35 - Train Loss: 0.9657, Train Acc: 74.52%, Val Loss: 0.9226, Val Acc: 76.81%, Time: 1760.07s\n",
      "\n"
     ]
    },
    {
     "data": {
      "application/vnd.jupyter.widget-view+json": {
       "model_id": "5aa08fb0cbc84932955d2f8f536180fa",
       "version_major": 2,
       "version_minor": 0
      },
      "text/plain": [
       "Training Epoch 34/35:   0%|          | 0/15245 [00:00<?, ?batch/s]"
      ]
     },
     "metadata": {},
     "output_type": "display_data"
    },
    {
     "data": {
      "application/vnd.jupyter.widget-view+json": {
       "model_id": "dc7ae3eacca24ca395f690d17e49b060",
       "version_major": 2,
       "version_minor": 0
      },
      "text/plain": [
       "Validation Epoch 34/35:   0%|          | 0/1945 [00:00<?, ?batch/s]"
      ]
     },
     "metadata": {},
     "output_type": "display_data"
    },
    {
     "name": "stdout",
     "output_type": "stream",
     "text": [
      "Epoch 34/35 - Train Loss: 0.9585, Train Acc: 74.63%, Val Loss: 0.9071, Val Acc: 76.92%, Time: 1763.34s\n",
      "\n"
     ]
    },
    {
     "data": {
      "application/vnd.jupyter.widget-view+json": {
       "model_id": "747369f02a884f689630dcdc805de5c1",
       "version_major": 2,
       "version_minor": 0
      },
      "text/plain": [
       "Training Epoch 35/35:   0%|          | 0/15245 [00:00<?, ?batch/s]"
      ]
     },
     "metadata": {},
     "output_type": "display_data"
    },
    {
     "data": {
      "application/vnd.jupyter.widget-view+json": {
       "model_id": "55113a9555374b86bd0b5003a49b5252",
       "version_major": 2,
       "version_minor": 0
      },
      "text/plain": [
       "Validation Epoch 35/35:   0%|          | 0/1945 [00:00<?, ?batch/s]"
      ]
     },
     "metadata": {},
     "output_type": "display_data"
    },
    {
     "name": "stdout",
     "output_type": "stream",
     "text": [
      "Epoch 35/35 - Train Loss: 0.9548, Train Acc: 74.67%, Val Loss: 0.9118, Val Acc: 76.96%, Time: 1764.45s\n",
      "\n",
      "Best model was from epoch 35 with validation accuracy of 0.7696\n"
     ]
    }
   ],
   "source": [
    "\n",
    "# Initialize lists to store per epoch metrics\n",
    "train_losses, val_losses = [], []\n",
    "train_accuracies, val_accuracies = [], []\n",
    "\n",
    "# Initialize the best validation accuracy\n",
    "best_val_acc = 0.0\n",
    "best_epoch = 0\n",
    "val_acc_history = []\n",
    "early_stopper = EarlyStopper(patience=5, min_drop=0.02)\n",
    "\n",
    "# Ensure the directory exists or create it\n",
    "model_dir = os.path.dirname(model_save_path)\n",
    "if not os.path.exists(model_dir):\n",
    "    os.makedirs(model_dir)\n",
    "\n",
    "for epoch in range(num_epochs):\n",
    "    # Training Phase\n",
    "    epoch_start = time.time()\n",
    "    model.train()  \n",
    "    train_running_corrects = 0\n",
    "    train_running_loss = 0.0\n",
    "\n",
    "    train_progress = tqdm(dataloaders['train'], desc=f'Training Epoch {epoch+1}/{num_epochs}', unit='batch')\n",
    "    for inputs, labels in train_progress:\n",
    "        if torch.cuda.is_available():\n",
    "            inputs, labels = inputs.cuda(), labels.cuda()\n",
    "\n",
    "        optimizer.zero_grad()\n",
    "\n",
    "        with torch.set_grad_enabled(True):\n",
    "            outputs = model(inputs)\n",
    "            _, preds = torch.max(outputs, 1)\n",
    "            loss = criterion(outputs, labels)\n",
    "            loss.backward()\n",
    "            optimizer.step()\n",
    "\n",
    "        train_running_loss += loss.item() * inputs.size(0)\n",
    "        train_running_corrects += torch.sum(preds == labels.data)\n",
    "\n",
    "    train_epoch_loss = train_running_loss / len(image_datasets['train'])\n",
    "    train_epoch_acc = train_running_corrects.double() / len(image_datasets['train'])\n",
    "    train_losses.append(train_epoch_loss)\n",
    "    train_accuracies.append(train_epoch_acc.item())\n",
    "\n",
    "    # Validation Phase\n",
    "    model.eval()  \n",
    "    val_running_corrects = 0\n",
    "    val_running_loss = 0.0\n",
    "\n",
    "    val_progress = tqdm(dataloaders['val'], desc=f'Validation Epoch {epoch+1}/{num_epochs}', unit='batch')\n",
    "    for inputs, labels in val_progress:\n",
    "        if torch.cuda.is_available():\n",
    "            inputs, labels = inputs.cuda(), labels.cuda()\n",
    "\n",
    "        with torch.no_grad():\n",
    "            outputs = model(inputs)\n",
    "            _, preds = torch.max(outputs, 1)\n",
    "            loss = criterion(outputs, labels)\n",
    "\n",
    "        val_running_loss += loss.item() * inputs.size(0)\n",
    "        val_running_corrects += torch.sum(preds == labels.data)\n",
    "\n",
    "    val_epoch_loss = val_running_loss / len(image_datasets['val'])\n",
    "    val_epoch_acc = val_running_corrects.double() / len(image_datasets['val'])\n",
    "    val_losses.append(val_epoch_loss)\n",
    "    val_accuracies.append(val_epoch_acc.item())\n",
    "\n",
    "    if val_epoch_acc > best_val_acc:\n",
    "        best_val_acc = val_epoch_acc\n",
    "        best_epoch = epoch\n",
    "\n",
    "        torch.save({\n",
    "            'epoch': epoch,\n",
    "            'model_state_dict': model.state_dict(),\n",
    "            'optimizer_state_dict': optimizer.state_dict(),\n",
    "            'loss': val_epoch_loss,\n",
    "            'accuracy': best_val_acc.item(),\n",
    "        }, model_save_path)\n",
    "        \n",
    "    epoch_duration = time.time() - epoch_start\n",
    "\n",
    "    # Print statistics for the current epoch\n",
    "    print(f'Epoch {epoch + 1}/{num_epochs} - '\n",
    "          f'Train Loss: {train_losses[-1]:.4f}, '\n",
    "          f'Train Acc: {train_accuracies[-1] * 100:.2f}%, '\n",
    "          f'Val Loss: {val_losses[-1]:.4f}, '\n",
    "          f'Val Acc: {val_accuracies[-1] * 100:.2f}%, '\n",
    "          f'Time: {epoch_duration:.2f}s\\n')\n",
    "\n",
    "    # Checking for early stopping\n",
    "    if early_stopper.check_accuracy_drop(val_epoch_acc):\n",
    "        print(\"WARNING: Early stopping triggered\")\n",
    "        break\n",
    "\n",
    "print(f\"Best model was from epoch {best_epoch + 1} with validation accuracy of {best_val_acc:.4f}\")\n"
   ]
  },
  {
   "cell_type": "code",
   "execution_count": 12,
   "metadata": {},
   "outputs": [
    {
     "data": {
      "image/png": "[encoded data removed]",
      "text/plain": [
       "<Figure size 1200x400 with 2 Axes>"
      ]
     },
     "metadata": {},
     "output_type": "display_data"
    }
   ],
   "source": [
    "# Plotting\n",
    "plt.figure(figsize=(12, 4))\n",
    "plt.subplot(1, 2, 1)\n",
    "plt.plot(train_losses, label='Training Loss')\n",
    "plt.plot(val_losses, label='Validation Loss')\n",
    "plt.title('Losses')\n",
    "plt.xlabel('Epochs')\n",
    "plt.ylabel('Loss')\n",
    "plt.legend()\n",
    "\n",
    "plt.subplot(1, 2, 2)\n",
    "plt.plot(train_accuracies, label='Training Accuracy')\n",
    "plt.plot(val_accuracies, label='Validation Accuracy')\n",
    "plt.title('Accuracies')\n",
    "plt.xlabel('Epochs')\n",
    "plt.ylabel('Accuracy')\n",
    "plt.legend()\n",
    "\n",
    "plt.show()"
   ]
  },
  {
   "cell_type": "markdown",
   "metadata": {},
   "source": [
    "- **Model Architecture**: Pre-trained ResNet18\n",
    "- **Batch Size**: 16\n",
    "- **Number of Workers**: 4\n",
    "- **Loss Function**: Cross-Entropy Loss\n",
    "- **Optimizer**: SGD (Learning Rate: 0.001, Momentum: 0.9)\n",
    "- **Learning Rate Scheduler**: StepLR (Step Size: 6, Gamma: 0.1)\n",
    "- **Number of Epochs**: 35\n",
    "- **Device**: CUDA (if available)"
   ]
  },
  {
   "cell_type": "code",
   "execution_count": null,
   "metadata": {},
   "outputs": [],
   "source": [
    "# Defining Dataset directory and transformation settings\n",
    "model_dataset_dir = './images/'\n",
    "model_batch_size = 16\n",
    "model_num_workers = 4\n",
    "\n",
    "# Training settings\n",
    "model_num_epochs = 35\n",
    "model_learning_rate = 0.001\n",
    "model_momentum = 0.9\n",
    "model_weight_decay=1e-4\n",
    "\n",
    "# Scheduler settings\n",
    "model_step_size = 6\n",
    "model_gamma = 0.1\n"
   ]
  }
 ],
 "metadata": {
  "kernelspec": {
   "display_name": "Python 3 (ipykernel)",
   "language": "python",
   "name": "python3"
  },
  "language_info": {
   "codemirror_mode": {
    "name": "ipython",
    "version": 3
   },
   "file_extension": ".py",
   "mimetype": "text/x-python",
   "name": "python",
   "nbconvert_exporter": "python",
   "pygments_lexer": "ipython3",
   "version": "3.11.5"
  }
 },
 "nbformat": 4,
 "nbformat_minor": 4
}
